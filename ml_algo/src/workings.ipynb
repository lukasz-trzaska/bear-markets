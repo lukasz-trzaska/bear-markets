{
 "cells": [
  {
   "cell_type": "code",
   "execution_count": 126,
   "metadata": {},
   "outputs": [],
   "source": [
    "import os\n",
    "import pickle\n",
    "from pathlib import Path\n",
    "\n",
    "import click\n",
    "import numpy as np\n",
    "import pandas as pd\n",
    "import scipy.stats as stats\n",
    "from sklearn.base import BaseEstimator, TransformerMixin\n",
    "from sklearn.pipeline import Pipeline\n",
    "from sklearn.preprocessing import MinMaxScaler\n",
    "from sklearn.compose import ColumnTransformer\n",
    "\n",
    "from pymongo import MongoClient\n",
    "import matplotlib.pyplot as plt"
   ]
  },
  {
   "cell_type": "markdown",
   "metadata": {},
   "source": [
    "Load Data"
   ]
  },
  {
   "cell_type": "code",
   "execution_count": 127,
   "metadata": {},
   "outputs": [],
   "source": [
    "HOST = \"mongodb://localhost:27017\""
   ]
  },
  {
   "cell_type": "code",
   "execution_count": 128,
   "metadata": {},
   "outputs": [
    {
     "name": "stdout",
     "output_type": "stream",
     "text": [
      "c:\\Users\\lukas\\OneDrive\\Pulpit\\data-science\\Projects\\bear_markets\\ml_algo\\data\n"
     ]
    }
   ],
   "source": [
    "PATH = Path(os.getcwd()).parent\n",
    "PATH = os.path.join(PATH, \"data\")\n",
    "\n",
    "sys.path.append(PATH)\n",
    "\n",
    "from create_dataset import main"
   ]
  },
  {
   "cell_type": "code",
   "execution_count": 136,
   "metadata": {},
   "outputs": [
    {
     "data": {
      "text/html": [
       "<div>\n",
       "<style scoped>\n",
       "    .dataframe tbody tr th:only-of-type {\n",
       "        vertical-align: middle;\n",
       "    }\n",
       "\n",
       "    .dataframe tbody tr th {\n",
       "        vertical-align: top;\n",
       "    }\n",
       "\n",
       "    .dataframe thead th {\n",
       "        text-align: right;\n",
       "    }\n",
       "</style>\n",
       "<table border=\"1\" class=\"dataframe\">\n",
       "  <thead>\n",
       "    <tr style=\"text-align: right;\">\n",
       "      <th></th>\n",
       "      <th>Date</th>\n",
       "      <th>Index</th>\n",
       "      <th>daily_returns</th>\n",
       "      <th>momentum30</th>\n",
       "      <th>momentum60</th>\n",
       "      <th>momentum120</th>\n",
       "      <th>vs_quantile</th>\n",
       "      <th>vs_quantile_binary</th>\n",
       "      <th>vs_quantile_binary_freq</th>\n",
       "      <th>divergence</th>\n",
       "      <th>lag_returns</th>\n",
       "      <th>sell_signal</th>\n",
       "    </tr>\n",
       "  </thead>\n",
       "  <tbody>\n",
       "    <tr>\n",
       "      <th>0</th>\n",
       "      <td>2010-06-25</td>\n",
       "      <td>4.636475</td>\n",
       "      <td>1.661330</td>\n",
       "      <td>98.588807</td>\n",
       "      <td>98.703329</td>\n",
       "      <td>100.679776</td>\n",
       "      <td>0.294835</td>\n",
       "      <td>0.0</td>\n",
       "      <td>0.083333</td>\n",
       "      <td>-0.042549</td>\n",
       "      <td>-1.292362</td>\n",
       "      <td>1</td>\n",
       "    </tr>\n",
       "    <tr>\n",
       "      <th>1</th>\n",
       "      <td>2010-06-28</td>\n",
       "      <td>4.645544</td>\n",
       "      <td>0.906904</td>\n",
       "      <td>99.175475</td>\n",
       "      <td>98.871457</td>\n",
       "      <td>101.086235</td>\n",
       "      <td>0.115147</td>\n",
       "      <td>0.0</td>\n",
       "      <td>0.083333</td>\n",
       "      <td>-0.042953</td>\n",
       "      <td>1.661330</td>\n",
       "      <td>1</td>\n",
       "    </tr>\n",
       "    <tr>\n",
       "      <th>2</th>\n",
       "      <td>2010-06-29</td>\n",
       "      <td>4.635990</td>\n",
       "      <td>-0.955375</td>\n",
       "      <td>99.175971</td>\n",
       "      <td>98.383981</td>\n",
       "      <td>100.719612</td>\n",
       "      <td>-0.035380</td>\n",
       "      <td>0.0</td>\n",
       "      <td>0.083333</td>\n",
       "      <td>-0.042967</td>\n",
       "      <td>0.906904</td>\n",
       "      <td>1</td>\n",
       "    </tr>\n",
       "    <tr>\n",
       "      <th>3</th>\n",
       "      <td>2010-06-30</td>\n",
       "      <td>4.633077</td>\n",
       "      <td>-0.291319</td>\n",
       "      <td>99.391202</td>\n",
       "      <td>98.266019</td>\n",
       "      <td>100.616919</td>\n",
       "      <td>0.102102</td>\n",
       "      <td>0.0</td>\n",
       "      <td>0.083333</td>\n",
       "      <td>-0.042551</td>\n",
       "      <td>-0.955375</td>\n",
       "      <td>1</td>\n",
       "    </tr>\n",
       "    <tr>\n",
       "      <th>4</th>\n",
       "      <td>2010-07-01</td>\n",
       "      <td>4.630058</td>\n",
       "      <td>-0.301924</td>\n",
       "      <td>99.533305</td>\n",
       "      <td>98.359614</td>\n",
       "      <td>100.315055</td>\n",
       "      <td>0.100011</td>\n",
       "      <td>0.0</td>\n",
       "      <td>0.083333</td>\n",
       "      <td>-0.041987</td>\n",
       "      <td>-0.291319</td>\n",
       "      <td>1</td>\n",
       "    </tr>\n",
       "    <tr>\n",
       "      <th>...</th>\n",
       "      <td>...</td>\n",
       "      <td>...</td>\n",
       "      <td>...</td>\n",
       "      <td>...</td>\n",
       "      <td>...</td>\n",
       "      <td>...</td>\n",
       "      <td>...</td>\n",
       "      <td>...</td>\n",
       "      <td>...</td>\n",
       "      <td>...</td>\n",
       "      <td>...</td>\n",
       "      <td>...</td>\n",
       "    </tr>\n",
       "    <tr>\n",
       "      <th>3061</th>\n",
       "      <td>2022-08-23</td>\n",
       "      <td>6.279665</td>\n",
       "      <td>-0.385306</td>\n",
       "      <td>101.463546</td>\n",
       "      <td>100.007762</td>\n",
       "      <td>98.943693</td>\n",
       "      <td>0.094674</td>\n",
       "      <td>0.0</td>\n",
       "      <td>0.100000</td>\n",
       "      <td>0.025035</td>\n",
       "      <td>-2.339547</td>\n",
       "      <td>0</td>\n",
       "    </tr>\n",
       "    <tr>\n",
       "      <th>3062</th>\n",
       "      <td>2022-08-24</td>\n",
       "      <td>6.278897</td>\n",
       "      <td>-0.076865</td>\n",
       "      <td>101.663124</td>\n",
       "      <td>99.654337</td>\n",
       "      <td>98.955372</td>\n",
       "      <td>0.099074</td>\n",
       "      <td>0.0</td>\n",
       "      <td>0.100000</td>\n",
       "      <td>0.028822</td>\n",
       "      <td>-0.385306</td>\n",
       "      <td>0</td>\n",
       "    </tr>\n",
       "    <tr>\n",
       "      <th>3063</th>\n",
       "      <td>2022-08-25</td>\n",
       "      <td>6.286277</td>\n",
       "      <td>0.738080</td>\n",
       "      <td>101.990196</td>\n",
       "      <td>99.926483</td>\n",
       "      <td>99.187909</td>\n",
       "      <td>0.094954</td>\n",
       "      <td>0.0</td>\n",
       "      <td>0.100000</td>\n",
       "      <td>0.032988</td>\n",
       "      <td>-0.076865</td>\n",
       "      <td>0</td>\n",
       "    </tr>\n",
       "    <tr>\n",
       "      <th>3064</th>\n",
       "      <td>2022-08-26</td>\n",
       "      <td>6.214028</td>\n",
       "      <td>-7.224945</td>\n",
       "      <td>100.330998</td>\n",
       "      <td>98.887623</td>\n",
       "      <td>98.354715</td>\n",
       "      <td>-4.177950</td>\n",
       "      <td>1.0</td>\n",
       "      <td>0.116667</td>\n",
       "      <td>0.034836</td>\n",
       "      <td>0.738080</td>\n",
       "      <td>0</td>\n",
       "    </tr>\n",
       "    <tr>\n",
       "      <th>3065</th>\n",
       "      <td>2022-08-29</td>\n",
       "      <td>6.197177</td>\n",
       "      <td>-1.685087</td>\n",
       "      <td>100.306938</td>\n",
       "      <td>98.433210</td>\n",
       "      <td>98.101170</td>\n",
       "      <td>-0.294173</td>\n",
       "      <td>0.0</td>\n",
       "      <td>0.116667</td>\n",
       "      <td>0.037112</td>\n",
       "      <td>-7.224945</td>\n",
       "      <td>0</td>\n",
       "    </tr>\n",
       "  </tbody>\n",
       "</table>\n",
       "<p>3066 rows × 12 columns</p>\n",
       "</div>"
      ],
      "text/plain": [
       "            Date     Index  daily_returns  momentum30  momentum60  \\\n",
       "0     2010-06-25  4.636475       1.661330   98.588807   98.703329   \n",
       "1     2010-06-28  4.645544       0.906904   99.175475   98.871457   \n",
       "2     2010-06-29  4.635990      -0.955375   99.175971   98.383981   \n",
       "3     2010-06-30  4.633077      -0.291319   99.391202   98.266019   \n",
       "4     2010-07-01  4.630058      -0.301924   99.533305   98.359614   \n",
       "...          ...       ...            ...         ...         ...   \n",
       "3061  2022-08-23  6.279665      -0.385306  101.463546  100.007762   \n",
       "3062  2022-08-24  6.278897      -0.076865  101.663124   99.654337   \n",
       "3063  2022-08-25  6.286277       0.738080  101.990196   99.926483   \n",
       "3064  2022-08-26  6.214028      -7.224945  100.330998   98.887623   \n",
       "3065  2022-08-29  6.197177      -1.685087  100.306938   98.433210   \n",
       "\n",
       "      momentum120  vs_quantile  vs_quantile_binary  vs_quantile_binary_freq  \\\n",
       "0      100.679776     0.294835                 0.0                 0.083333   \n",
       "1      101.086235     0.115147                 0.0                 0.083333   \n",
       "2      100.719612    -0.035380                 0.0                 0.083333   \n",
       "3      100.616919     0.102102                 0.0                 0.083333   \n",
       "4      100.315055     0.100011                 0.0                 0.083333   \n",
       "...           ...          ...                 ...                      ...   \n",
       "3061    98.943693     0.094674                 0.0                 0.100000   \n",
       "3062    98.955372     0.099074                 0.0                 0.100000   \n",
       "3063    99.187909     0.094954                 0.0                 0.100000   \n",
       "3064    98.354715    -4.177950                 1.0                 0.116667   \n",
       "3065    98.101170    -0.294173                 0.0                 0.116667   \n",
       "\n",
       "      divergence  lag_returns  sell_signal  \n",
       "0      -0.042549    -1.292362            1  \n",
       "1      -0.042953     1.661330            1  \n",
       "2      -0.042967     0.906904            1  \n",
       "3      -0.042551    -0.955375            1  \n",
       "4      -0.041987    -0.291319            1  \n",
       "...          ...          ...          ...  \n",
       "3061    0.025035    -2.339547            0  \n",
       "3062    0.028822    -0.385306            0  \n",
       "3063    0.032988    -0.076865            0  \n",
       "3064    0.034836     0.738080            0  \n",
       "3065    0.037112    -7.224945            0  \n",
       "\n",
       "[3066 rows x 12 columns]"
      ]
     },
     "execution_count": 136,
     "metadata": {},
     "output_type": "execute_result"
    }
   ],
   "source": [
    "df = main(sector=\"Industrials\", host = HOST)\n",
    "df"
   ]
  },
  {
   "cell_type": "code",
   "execution_count": 164,
   "metadata": {},
   "outputs": [
    {
     "name": "stdout",
     "output_type": "stream",
     "text": [
      "c:\\Users\\lukas\\OneDrive\\Pulpit\\data-science\\Projects\\bear_markets\\ml_algo\\data\\data.pkl\n"
     ]
    }
   ],
   "source": [
    "DATA_PATH = os.path.join(Path(os.getcwd()).parent, \"data\\\\data.pkl\")\n",
    "print(DATA_PATH)"
   ]
  },
  {
   "cell_type": "code",
   "execution_count": 165,
   "metadata": {},
   "outputs": [
    {
     "name": "stdout",
     "output_type": "stream",
     "text": [
      "c:\\Users\\lukas\\OneDrive\\Pulpit\\data-science\\Projects\\bear_markets\\ml_algo\\data\\train_set.pkl\n"
     ]
    }
   ],
   "source": [
    "TRAIN_PATH = os.path.join(Path(os.getcwd()).parent, \"data\\\\train_set.pkl\")\n",
    "print(TRAIN_PATH)"
   ]
  },
  {
   "cell_type": "code",
   "execution_count": 166,
   "metadata": {},
   "outputs": [
    {
     "name": "stdout",
     "output_type": "stream",
     "text": [
      "c:\\Users\\lukas\\OneDrive\\Pulpit\\data-science\\Projects\\bear_markets\\ml_algo\\data\\valid_set.pkl\n"
     ]
    }
   ],
   "source": [
    "VAL_PATH = os.path.join(Path(os.getcwd()).parent, \"data\\\\valid_set.pkl\")\n",
    "print(VAL_PATH)"
   ]
  },
  {
   "cell_type": "code",
   "execution_count": 149,
   "metadata": {},
   "outputs": [],
   "source": [
    "with open(DATA_PATH, \"wb\") as f:\n",
    "    pickle.dump(df, f)"
   ]
  },
  {
   "cell_type": "code",
   "execution_count": 157,
   "metadata": {},
   "outputs": [],
   "source": [
    "train_set = df.loc[df.Date<\"2022-01-01\",:].reset_index(drop=True)\n",
    "validation_set = df.loc[df.Date>=\"2022-01-01\",:].reset_index(drop=True)"
   ]
  },
  {
   "cell_type": "code",
   "execution_count": 168,
   "metadata": {},
   "outputs": [
    {
     "ename": "IndexingError",
     "evalue": "Too many indexers",
     "output_type": "error",
     "traceback": [
      "\u001b[1;31m---------------------------------------------------------------------------\u001b[0m",
      "\u001b[1;31mIndexingError\u001b[0m                             Traceback (most recent call last)",
      "\u001b[1;32mc:\\Users\\lukas\\OneDrive\\Pulpit\\data-science\\Projects\\bear_markets\\ml_algo\\src\\workings.ipynb Komórka 11\u001b[0m in \u001b[0;36m<cell line: 1>\u001b[1;34m()\u001b[0m\n\u001b[0;32m      <a href='vscode-notebook-cell:/c%3A/Users/lukas/OneDrive/Pulpit/data-science/Projects/bear_markets/ml_algo/src/workings.ipynb#X43sZmlsZQ%3D%3D?line=0'>1</a>\u001b[0m \u001b[39mwith\u001b[39;00m \u001b[39mopen\u001b[39m(TRAIN_PATH, \u001b[39m\"\u001b[39m\u001b[39mwb\u001b[39m\u001b[39m\"\u001b[39m) \u001b[39mas\u001b[39;00m f1:\n\u001b[1;32m----> <a href='vscode-notebook-cell:/c%3A/Users/lukas/OneDrive/Pulpit/data-science/Projects/bear_markets/ml_algo/src/workings.ipynb#X43sZmlsZQ%3D%3D?line=1'>2</a>\u001b[0m     pickle\u001b[39m.\u001b[39mdump((df\u001b[39m.\u001b[39;49mloc[:,df\u001b[39m.\u001b[39;49mDate\u001b[39m<\u001b[39;49m\u001b[39m\"\u001b[39;49m\u001b[39m2022-01-01\u001b[39;49m\u001b[39m\"\u001b[39;49m,:]\u001b[39m.\u001b[39mreset_index(drop\u001b[39m=\u001b[39m\u001b[39mTrue\u001b[39;00m)), f1)\n",
      "File \u001b[1;32mc:\\Users\\lukas\\OneDrive\\Pulpit\\data-science\\Projects\\bear_markets\\env1\\lib\\site-packages\\pandas\\core\\indexing.py:961\u001b[0m, in \u001b[0;36m_LocationIndexer.__getitem__\u001b[1;34m(self, key)\u001b[0m\n\u001b[0;32m    959\u001b[0m     \u001b[39mif\u001b[39;00m \u001b[39mself\u001b[39m\u001b[39m.\u001b[39m_is_scalar_access(key):\n\u001b[0;32m    960\u001b[0m         \u001b[39mreturn\u001b[39;00m \u001b[39mself\u001b[39m\u001b[39m.\u001b[39mobj\u001b[39m.\u001b[39m_get_value(\u001b[39m*\u001b[39mkey, takeable\u001b[39m=\u001b[39m\u001b[39mself\u001b[39m\u001b[39m.\u001b[39m_takeable)\n\u001b[1;32m--> 961\u001b[0m     \u001b[39mreturn\u001b[39;00m \u001b[39mself\u001b[39;49m\u001b[39m.\u001b[39;49m_getitem_tuple(key)\n\u001b[0;32m    962\u001b[0m \u001b[39melse\u001b[39;00m:\n\u001b[0;32m    963\u001b[0m     \u001b[39m# we by definition only have the 0th axis\u001b[39;00m\n\u001b[0;32m    964\u001b[0m     axis \u001b[39m=\u001b[39m \u001b[39mself\u001b[39m\u001b[39m.\u001b[39maxis \u001b[39mor\u001b[39;00m \u001b[39m0\u001b[39m\n",
      "File \u001b[1;32mc:\\Users\\lukas\\OneDrive\\Pulpit\\data-science\\Projects\\bear_markets\\env1\\lib\\site-packages\\pandas\\core\\indexing.py:1143\u001b[0m, in \u001b[0;36m_LocIndexer._getitem_tuple\u001b[1;34m(self, tup)\u001b[0m\n\u001b[0;32m   1140\u001b[0m     \u001b[39mreturn\u001b[39;00m \u001b[39mself\u001b[39m\u001b[39m.\u001b[39m_getitem_lowerdim(tup)\n\u001b[0;32m   1142\u001b[0m \u001b[39m# no multi-index, so validate all of the indexers\u001b[39;00m\n\u001b[1;32m-> 1143\u001b[0m tup \u001b[39m=\u001b[39m \u001b[39mself\u001b[39;49m\u001b[39m.\u001b[39;49m_validate_tuple_indexer(tup)\n\u001b[0;32m   1145\u001b[0m \u001b[39m# ugly hack for GH #836\u001b[39;00m\n\u001b[0;32m   1146\u001b[0m \u001b[39mif\u001b[39;00m \u001b[39mself\u001b[39m\u001b[39m.\u001b[39m_multi_take_opportunity(tup):\n",
      "File \u001b[1;32mc:\\Users\\lukas\\OneDrive\\Pulpit\\data-science\\Projects\\bear_markets\\env1\\lib\\site-packages\\pandas\\core\\indexing.py:765\u001b[0m, in \u001b[0;36m_LocationIndexer._validate_tuple_indexer\u001b[1;34m(self, key)\u001b[0m\n\u001b[0;32m    761\u001b[0m \u001b[39mdef\u001b[39;00m \u001b[39m_validate_tuple_indexer\u001b[39m(\u001b[39mself\u001b[39m, key: \u001b[39mtuple\u001b[39m) \u001b[39m-\u001b[39m\u001b[39m>\u001b[39m \u001b[39mtuple\u001b[39m:\n\u001b[0;32m    762\u001b[0m     \u001b[39m\"\"\"\u001b[39;00m\n\u001b[0;32m    763\u001b[0m \u001b[39m    Check the key for valid keys across my indexer.\u001b[39;00m\n\u001b[0;32m    764\u001b[0m \u001b[39m    \"\"\"\u001b[39;00m\n\u001b[1;32m--> 765\u001b[0m     key \u001b[39m=\u001b[39m \u001b[39mself\u001b[39;49m\u001b[39m.\u001b[39;49m_validate_key_length(key)\n\u001b[0;32m    766\u001b[0m     key \u001b[39m=\u001b[39m \u001b[39mself\u001b[39m\u001b[39m.\u001b[39m_expand_ellipsis(key)\n\u001b[0;32m    767\u001b[0m     \u001b[39mfor\u001b[39;00m i, k \u001b[39min\u001b[39;00m \u001b[39menumerate\u001b[39m(key):\n",
      "File \u001b[1;32mc:\\Users\\lukas\\OneDrive\\Pulpit\\data-science\\Projects\\bear_markets\\env1\\lib\\site-packages\\pandas\\core\\indexing.py:812\u001b[0m, in \u001b[0;36m_LocationIndexer._validate_key_length\u001b[1;34m(self, key)\u001b[0m\n\u001b[0;32m    810\u001b[0m             \u001b[39mraise\u001b[39;00m IndexingError(_one_ellipsis_message)\n\u001b[0;32m    811\u001b[0m         \u001b[39mreturn\u001b[39;00m \u001b[39mself\u001b[39m\u001b[39m.\u001b[39m_validate_key_length(key)\n\u001b[1;32m--> 812\u001b[0m     \u001b[39mraise\u001b[39;00m IndexingError(\u001b[39m\"\u001b[39m\u001b[39mToo many indexers\u001b[39m\u001b[39m\"\u001b[39m)\n\u001b[0;32m    813\u001b[0m \u001b[39mreturn\u001b[39;00m key\n",
      "\u001b[1;31mIndexingError\u001b[0m: Too many indexers"
     ]
    }
   ],
   "source": [
    "with open(TRAIN_PATH, \"wb\") as f1:\n",
    "    pickle.dump((df.loc[:,df.Date<\"2022-01-01\",:].reset_index(drop=True)), f1)"
   ]
  },
  {
   "cell_type": "code",
   "execution_count": 172,
   "metadata": {},
   "outputs": [
    {
     "data": {
      "text/plain": [
       "0        True\n",
       "1        True\n",
       "2        True\n",
       "3        True\n",
       "4        True\n",
       "        ...  \n",
       "3061    False\n",
       "3062    False\n",
       "3063    False\n",
       "3064    False\n",
       "3065    False\n",
       "Name: Date, Length: 3066, dtype: bool"
      ]
     },
     "execution_count": 172,
     "metadata": {},
     "output_type": "execute_result"
    }
   ],
   "source": [
    "df.loc[:,df.Date<\"2022-01-01\""
   ]
  },
  {
   "cell_type": "code",
   "execution_count": 170,
   "metadata": {},
   "outputs": [
    {
     "ename": "IndexingError",
     "evalue": "Too many indexers",
     "output_type": "error",
     "traceback": [
      "\u001b[1;31m---------------------------------------------------------------------------\u001b[0m",
      "\u001b[1;31mIndexingError\u001b[0m                             Traceback (most recent call last)",
      "\u001b[1;32mc:\\Users\\lukas\\OneDrive\\Pulpit\\data-science\\Projects\\bear_markets\\ml_algo\\src\\workings.ipynb Komórka 12\u001b[0m in \u001b[0;36m<cell line: 1>\u001b[1;34m()\u001b[0m\n\u001b[1;32m----> <a href='vscode-notebook-cell:/c%3A/Users/lukas/OneDrive/Pulpit/data-science/Projects/bear_markets/ml_algo/src/workings.ipynb#X53sZmlsZQ%3D%3D?line=0'>1</a>\u001b[0m df\u001b[39m.\u001b[39;49mloc[:,df\u001b[39m.\u001b[39;49mDate\u001b[39m<\u001b[39;49m\u001b[39m\"\u001b[39;49m\u001b[39m2022-01-01\u001b[39;49m\u001b[39m\"\u001b[39;49m,:]\u001b[39m.\u001b[39mreset_index(drop\u001b[39m=\u001b[39m\u001b[39mTrue\u001b[39;00m)\n",
      "File \u001b[1;32mc:\\Users\\lukas\\OneDrive\\Pulpit\\data-science\\Projects\\bear_markets\\env1\\lib\\site-packages\\pandas\\core\\indexing.py:961\u001b[0m, in \u001b[0;36m_LocationIndexer.__getitem__\u001b[1;34m(self, key)\u001b[0m\n\u001b[0;32m    959\u001b[0m     \u001b[39mif\u001b[39;00m \u001b[39mself\u001b[39m\u001b[39m.\u001b[39m_is_scalar_access(key):\n\u001b[0;32m    960\u001b[0m         \u001b[39mreturn\u001b[39;00m \u001b[39mself\u001b[39m\u001b[39m.\u001b[39mobj\u001b[39m.\u001b[39m_get_value(\u001b[39m*\u001b[39mkey, takeable\u001b[39m=\u001b[39m\u001b[39mself\u001b[39m\u001b[39m.\u001b[39m_takeable)\n\u001b[1;32m--> 961\u001b[0m     \u001b[39mreturn\u001b[39;00m \u001b[39mself\u001b[39;49m\u001b[39m.\u001b[39;49m_getitem_tuple(key)\n\u001b[0;32m    962\u001b[0m \u001b[39melse\u001b[39;00m:\n\u001b[0;32m    963\u001b[0m     \u001b[39m# we by definition only have the 0th axis\u001b[39;00m\n\u001b[0;32m    964\u001b[0m     axis \u001b[39m=\u001b[39m \u001b[39mself\u001b[39m\u001b[39m.\u001b[39maxis \u001b[39mor\u001b[39;00m \u001b[39m0\u001b[39m\n",
      "File \u001b[1;32mc:\\Users\\lukas\\OneDrive\\Pulpit\\data-science\\Projects\\bear_markets\\env1\\lib\\site-packages\\pandas\\core\\indexing.py:1143\u001b[0m, in \u001b[0;36m_LocIndexer._getitem_tuple\u001b[1;34m(self, tup)\u001b[0m\n\u001b[0;32m   1140\u001b[0m     \u001b[39mreturn\u001b[39;00m \u001b[39mself\u001b[39m\u001b[39m.\u001b[39m_getitem_lowerdim(tup)\n\u001b[0;32m   1142\u001b[0m \u001b[39m# no multi-index, so validate all of the indexers\u001b[39;00m\n\u001b[1;32m-> 1143\u001b[0m tup \u001b[39m=\u001b[39m \u001b[39mself\u001b[39;49m\u001b[39m.\u001b[39;49m_validate_tuple_indexer(tup)\n\u001b[0;32m   1145\u001b[0m \u001b[39m# ugly hack for GH #836\u001b[39;00m\n\u001b[0;32m   1146\u001b[0m \u001b[39mif\u001b[39;00m \u001b[39mself\u001b[39m\u001b[39m.\u001b[39m_multi_take_opportunity(tup):\n",
      "File \u001b[1;32mc:\\Users\\lukas\\OneDrive\\Pulpit\\data-science\\Projects\\bear_markets\\env1\\lib\\site-packages\\pandas\\core\\indexing.py:765\u001b[0m, in \u001b[0;36m_LocationIndexer._validate_tuple_indexer\u001b[1;34m(self, key)\u001b[0m\n\u001b[0;32m    761\u001b[0m \u001b[39mdef\u001b[39;00m \u001b[39m_validate_tuple_indexer\u001b[39m(\u001b[39mself\u001b[39m, key: \u001b[39mtuple\u001b[39m) \u001b[39m-\u001b[39m\u001b[39m>\u001b[39m \u001b[39mtuple\u001b[39m:\n\u001b[0;32m    762\u001b[0m     \u001b[39m\"\"\"\u001b[39;00m\n\u001b[0;32m    763\u001b[0m \u001b[39m    Check the key for valid keys across my indexer.\u001b[39;00m\n\u001b[0;32m    764\u001b[0m \u001b[39m    \"\"\"\u001b[39;00m\n\u001b[1;32m--> 765\u001b[0m     key \u001b[39m=\u001b[39m \u001b[39mself\u001b[39;49m\u001b[39m.\u001b[39;49m_validate_key_length(key)\n\u001b[0;32m    766\u001b[0m     key \u001b[39m=\u001b[39m \u001b[39mself\u001b[39m\u001b[39m.\u001b[39m_expand_ellipsis(key)\n\u001b[0;32m    767\u001b[0m     \u001b[39mfor\u001b[39;00m i, k \u001b[39min\u001b[39;00m \u001b[39menumerate\u001b[39m(key):\n",
      "File \u001b[1;32mc:\\Users\\lukas\\OneDrive\\Pulpit\\data-science\\Projects\\bear_markets\\env1\\lib\\site-packages\\pandas\\core\\indexing.py:812\u001b[0m, in \u001b[0;36m_LocationIndexer._validate_key_length\u001b[1;34m(self, key)\u001b[0m\n\u001b[0;32m    810\u001b[0m             \u001b[39mraise\u001b[39;00m IndexingError(_one_ellipsis_message)\n\u001b[0;32m    811\u001b[0m         \u001b[39mreturn\u001b[39;00m \u001b[39mself\u001b[39m\u001b[39m.\u001b[39m_validate_key_length(key)\n\u001b[1;32m--> 812\u001b[0m     \u001b[39mraise\u001b[39;00m IndexingError(\u001b[39m\"\u001b[39m\u001b[39mToo many indexers\u001b[39m\u001b[39m\"\u001b[39m)\n\u001b[0;32m    813\u001b[0m \u001b[39mreturn\u001b[39;00m key\n",
      "\u001b[1;31mIndexingError\u001b[0m: Too many indexers"
     ]
    }
   ],
   "source": [
    "df.loc[:,df.Date<\"2022-01-01\",:].reset_index(drop=True)"
   ]
  },
  {
   "cell_type": "code",
   "execution_count": null,
   "metadata": {},
   "outputs": [],
   "source": []
  }
 ],
 "metadata": {
  "kernelspec": {
   "display_name": "Python 3.9.5 ('env1': venv)",
   "language": "python",
   "name": "python3"
  },
  "language_info": {
   "codemirror_mode": {
    "name": "ipython",
    "version": 3
   },
   "file_extension": ".py",
   "mimetype": "text/x-python",
   "name": "python",
   "nbconvert_exporter": "python",
   "pygments_lexer": "ipython3",
   "version": "3.9.5"
  },
  "orig_nbformat": 4,
  "vscode": {
   "interpreter": {
    "hash": "5e093ba1a2fe8c6b6241abd6316f9615fb5469458ba001297a38b1ef2d662efb"
   }
  }
 },
 "nbformat": 4,
 "nbformat_minor": 2
}
